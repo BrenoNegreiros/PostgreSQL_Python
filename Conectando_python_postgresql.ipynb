{
 "cells": [
  {
   "cell_type": "code",
   "execution_count": 85,
   "metadata": {},
   "outputs": [],
   "source": [
    "import psycopg2"
   ]
  },
  {
   "cell_type": "code",
   "execution_count": 86,
   "metadata": {},
   "outputs": [],
   "source": [
    "def conexaoPostgres():\n",
    "\n",
    "    con = psycopg2.connect( host='localhost', database='avaliadorapp', user='postgres', password='postgres')\n",
    "\n",
    "    return con\n"
   ]
  },
  {
   "cell_type": "code",
   "execution_count": 78,
   "metadata": {},
   "outputs": [],
   "source": [
    "# criando conexao e cursor\n",
    "\n",
    "conexao = conexaoPostgres()\n",
    "\n",
    "cursor = conexao.cursor()\n",
    "\n",
    "\n"
   ]
  },
  {
   "cell_type": "code",
   "execution_count": 142,
   "metadata": {},
   "outputs": [
    {
     "name": "stdout",
     "output_type": "stream",
     "text": [
      "(2, '2018-10-02', 'Projeto')\n",
      "(4, '2018-10-11', 'ProjetoTeste')\n",
      "(21, '2018-11-15', 'projeto2')\n",
      "(7, '664', None)\n",
      "(8, '1990', 'breno')\n",
      "(10, '0', 'brenoo')\n"
     ]
    }
   ],
   "source": [
    "# listando \n",
    "\n",
    "\n",
    "\n",
    "cursor.execute('select * from projeto')\n",
    "\n",
    "recset = cursor.fetchall()\n",
    "\n",
    "for rec in recset:\n",
    "    print(rec)\n",
    "    \n"
   ]
  },
  {
   "cell_type": "code",
   "execution_count": 138,
   "metadata": {},
   "outputs": [
    {
     "ename": "NotNullViolation",
     "evalue": "null value in column \"id\" violates not-null constraint\nDETAIL:  Failing row contains (null, 1980, bbrenoo).\n",
     "output_type": "error",
     "traceback": [
      "\u001b[0;31m---------------------------------------------------------------------------\u001b[0m",
      "\u001b[0;31mNotNullViolation\u001b[0m                          Traceback (most recent call last)",
      "\u001b[0;32m<ipython-input-138-86d7071a2b58>\u001b[0m in \u001b[0;36m<module>\u001b[0;34m\u001b[0m\n\u001b[1;32m      7\u001b[0m \u001b[0;34m\u001b[0m\u001b[0m\n\u001b[1;32m      8\u001b[0m \u001b[0msql\u001b[0m \u001b[0;34m=\u001b[0m \u001b[0;34m\"INSERT INTO projeto(data,nome) VALUES (1990-01-09,'bbrenoo')\"\u001b[0m\u001b[0;34m\u001b[0m\u001b[0;34m\u001b[0m\u001b[0m\n\u001b[0;32m----> 9\u001b[0;31m \u001b[0mcursor\u001b[0m\u001b[0;34m.\u001b[0m\u001b[0mexecute\u001b[0m\u001b[0;34m(\u001b[0m\u001b[0msql\u001b[0m\u001b[0;34m)\u001b[0m\u001b[0;34m\u001b[0m\u001b[0;34m\u001b[0m\u001b[0m\n\u001b[0m\u001b[1;32m     10\u001b[0m \u001b[0;34m\u001b[0m\u001b[0m\n\u001b[1;32m     11\u001b[0m \u001b[0mconexao\u001b[0m\u001b[0;34m.\u001b[0m\u001b[0mcommit\u001b[0m\u001b[0;34m(\u001b[0m\u001b[0;34m)\u001b[0m\u001b[0;34m\u001b[0m\u001b[0;34m\u001b[0m\u001b[0m\n",
      "\u001b[0;31mNotNullViolation\u001b[0m: null value in column \"id\" violates not-null constraint\nDETAIL:  Failing row contains (null, 1980, bbrenoo).\n"
     ]
    }
   ],
   "source": [
    "# inserindo \n",
    "\n",
    "\n",
    "conexao = conexaoPostgres()\n",
    "\n",
    "cursor = conexao.cursor()\n",
    "\n",
    "sql = \"INSERT INTO projeto(id,data,nome) VALUES (11,1990-01-09,'bbrenoo')\"\n",
    "cursor.execute(sql)\n",
    "\n",
    "conexao.commit()"
   ]
  },
  {
   "cell_type": "code",
   "execution_count": 132,
   "metadata": {},
   "outputs": [],
   "source": [
    "# update\n",
    "\n",
    "conexao = conexaoPostgres()\n",
    "\n",
    "cursor = conexao.cursor()\n",
    "\n",
    "sql = \"UPDATE projeto SET nome = 'JOAO' WHERE id = 5\"\n",
    "\n",
    "cursor.execute(sql)\n",
    "\n",
    "conexao.commit()"
   ]
  },
  {
   "cell_type": "code",
   "execution_count": 141,
   "metadata": {},
   "outputs": [],
   "source": [
    "# delete\n",
    "\n",
    "conexao = conexaoPostgres()\n",
    "\n",
    "cursor = conexao.cursor()\n",
    "\n",
    "sql = \"DELETE From projeto WHERE id = 11\"\n",
    "\n",
    "cursor.execute(sql)\n",
    "\n",
    "conexao.commit()"
   ]
  }
 ],
 "metadata": {
  "kernelspec": {
   "display_name": "Python 3",
   "language": "python",
   "name": "python3"
  },
  "language_info": {
   "codemirror_mode": {
    "name": "ipython",
    "version": 3
   },
   "file_extension": ".py",
   "mimetype": "text/x-python",
   "name": "python",
   "nbconvert_exporter": "python",
   "pygments_lexer": "ipython3",
   "version": "3.7.3"
  }
 },
 "nbformat": 4,
 "nbformat_minor": 2
}
